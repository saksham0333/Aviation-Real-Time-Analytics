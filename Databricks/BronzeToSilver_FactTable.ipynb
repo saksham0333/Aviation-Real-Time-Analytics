{
 "cells": [
  {
   "cell_type": "code",
   "execution_count": 0,
   "metadata": {
    "application/vnd.databricks.v1+cell": {
     "cellMetadata": {
      "byteLimit": 2048000,
      "rowLimit": 10000
     },
     "inputWidgets": {},
     "nuid": "b681b67d-9125-4dea-9653-c21329983a8b",
     "showTitle": false,
     "tableResultSettingsMap": {},
     "title": ""
    }
   },
   "outputs": [],
   "source": [
    "from pyspark.sql import SparkSession\n",
    "from pyspark.sql.functions import col, explode, to_timestamp, lit, from_json\n",
    "from pyspark.sql.types import StructType, StructField, StringType, DoubleType, IntegerType, DecimalType, BooleanType, TimestampType\n",
    "\n",
    "spark = SparkSession.builder.appName(\"BronzeToSilver_FactTable\").getOrCreate()\n",
    "spark.conf.set(f\"fs.azure.account.key.{account_name}.dfs.core.windows.net\", account_key)"
   ]
  },
  {
   "cell_type": "code",
   "execution_count": 0,
   "metadata": {
    "application/vnd.databricks.v1+cell": {
     "cellMetadata": {
      "byteLimit": 2048000,
      "rowLimit": 10000
     },
     "inputWidgets": {},
     "nuid": "e9fe9047-4734-4d9a-9b1e-a4b5a04afa9a",
     "showTitle": false,
     "tableResultSettingsMap": {},
     "title": ""
    }
   },
   "outputs": [
    {
     "data": {
      "text/plain": [
       "'3.5.0'"
      ]
     },
     "execution_count": 66,
     "metadata": {},
     "output_type": "execute_result"
    }
   ],
   "source": [
    "spark.version"
   ]
  },
  {
   "cell_type": "code",
   "execution_count": 0,
   "metadata": {
    "application/vnd.databricks.v1+cell": {
     "cellMetadata": {
      "byteLimit": 2048000,
      "rowLimit": 10000
     },
     "inputWidgets": {},
     "nuid": "490a7af2-840b-4cf8-bf2d-3346e9ab7104",
     "showTitle": false,
     "tableResultSettingsMap": {},
     "title": ""
    }
   },
   "outputs": [],
   "source": [
    "# Define base paths\n",
    "input_base_path = f\"abfss://bronze@{account_name}.dfs.core.windows.net\"\n",
    "output_base_path = f\"abfss://silver@{account_name}.dfs.core.windows.net\""
   ]
  },
  {
   "cell_type": "code",
   "execution_count": 0,
   "metadata": {
    "application/vnd.databricks.v1+cell": {
     "cellMetadata": {
      "byteLimit": 2048000,
      "rowLimit": 10000
     },
     "inputWidgets": {},
     "nuid": "21bf3123-d329-4a6f-ada0-15629fb11d2d",
     "showTitle": false,
     "tableResultSettingsMap": {},
     "title": ""
    }
   },
   "outputs": [],
   "source": [
    "from datetime import datetime, timezone\n",
    "\n",
    "today = datetime.now(timezone.utc)\n",
    "year = today.strftime('%Y')\n",
    "month = today.strftime('%m')\n",
    "day = today.strftime('%d')"
   ]
  },
  {
   "cell_type": "markdown",
   "metadata": {
    "application/vnd.databricks.v1+cell": {
     "cellMetadata": {},
     "inputWidgets": {},
     "nuid": "417d8659-e63f-4563-82dc-b28aac83f85e",
     "showTitle": false,
     "tableResultSettingsMap": {},
     "title": ""
    }
   },
   "source": [
    "# Flights table"
   ]
  },
  {
   "cell_type": "code",
   "execution_count": 0,
   "metadata": {
    "application/vnd.databricks.v1+cell": {
     "cellMetadata": {
      "byteLimit": 2048000,
      "rowLimit": 10000
     },
     "inputWidgets": {},
     "nuid": "7f089a93-6ef2-4647-a8f1-a0395bc8d041",
     "showTitle": false,
     "tableResultSettingsMap": {},
     "title": ""
    }
   },
   "outputs": [],
   "source": [
    "bronze_flights_df  = spark.read.json(f\"{input_base_path}/flight/{year}/{month}/{day}/*.json\")"
   ]
  },
  {
   "cell_type": "markdown",
   "metadata": {
    "application/vnd.databricks.v1+cell": {
     "cellMetadata": {},
     "inputWidgets": {},
     "nuid": "26ac18df-7318-4907-a206-e6ee47b1a723",
     "showTitle": false,
     "tableResultSettingsMap": {},
     "title": ""
    }
   },
   "source": [
    "#### Step 1: Explode JSON fields to flatten nested structures\n",
    "##### Extract the \"data\" array from the JSON"
   ]
  },
  {
   "cell_type": "code",
   "execution_count": 0,
   "metadata": {
    "application/vnd.databricks.v1+cell": {
     "cellMetadata": {
      "byteLimit": 2048000,
      "rowLimit": 10000
     },
     "inputWidgets": {},
     "nuid": "2515b3a3-4301-4d5d-b16d-42c49f474bff",
     "showTitle": false,
     "tableResultSettingsMap": {},
     "title": ""
    }
   },
   "outputs": [],
   "source": [
    "flights_data_df = bronze_flights_df.select(explode(col(\"data\")).alias(\"flight\"))"
   ]
  },
  {
   "cell_type": "markdown",
   "metadata": {
    "application/vnd.databricks.v1+cell": {
     "cellMetadata": {},
     "inputWidgets": {},
     "nuid": "38434f1d-c4d4-4990-97a7-a2da4634b415",
     "showTitle": false,
     "tableResultSettingsMap": {},
     "title": ""
    }
   },
   "source": [
    "#### Step 2: Schema enforcement"
   ]
  },
  {
   "cell_type": "markdown",
   "metadata": {
    "application/vnd.databricks.v1+cell": {
     "cellMetadata": {},
     "inputWidgets": {},
     "nuid": "287e124b-5dbc-45f0-8f31-f439cbfca89a",
     "showTitle": false,
     "tableResultSettingsMap": {},
     "title": ""
    }
   },
   "source": [
    "##### Select relevant fields and apply the schema "
   ]
  },
  {
   "cell_type": "code",
   "execution_count": 0,
   "metadata": {
    "application/vnd.databricks.v1+cell": {
     "cellMetadata": {
      "byteLimit": 2048000,
      "rowLimit": 10000
     },
     "inputWidgets": {},
     "nuid": "4053a0b2-82c6-4747-bff3-ecb70b87e185",
     "showTitle": false,
     "tableResultSettingsMap": {},
     "title": ""
    }
   },
   "outputs": [],
   "source": [
    "flights_data_df_enforced = flights_data_df.select(\n",
    "    col(\"flight.flight_date\").cast(StringType()).alias(\"flight_date\"),\n",
    "    col(\"flight.flight_status\").cast(StringType()).alias(\"flight_status\"),\n",
    "    \n",
    "    # Departure fields\n",
    "    col(\"flight.departure.airport\").cast(StringType()).alias(\"departure_airport\"),\n",
    "    col(\"flight.departure.timezone\").cast(StringType()).alias(\"departure_timezone\"),\n",
    "    col(\"flight.departure.iata\").cast(StringType()).alias(\"departure_iata\"),\n",
    "    col(\"flight.departure.icao\").cast(StringType()).alias(\"departure_icao\"),\n",
    "    col(\"flight.departure.terminal\").cast(StringType()).alias(\"departure_terminal\"),\n",
    "    col(\"flight.departure.gate\").cast(StringType()).alias(\"departure_gate\"),\n",
    "    col(\"flight.departure.delay\").cast(IntegerType()).alias(\"departure_delay\"),\n",
    "    col(\"flight.departure.scheduled\").cast(StringType()).alias(\"departure_scheduled\"),\n",
    "    col(\"flight.departure.estimated\").cast(StringType()).alias(\"departure_estimated\"),\n",
    "    col(\"flight.departure.actual\").cast(StringType()).alias(\"departure_actual\"),\n",
    "    col(\"flight.departure.estimated_runway\").cast(StringType()).alias(\"departure_estimated_runway\"),\n",
    "    col(\"flight.departure.actual_runway\").cast(StringType()).alias(\"departure_actual_runway\"),\n",
    "    \n",
    "    # Arrival fields\n",
    "    col(\"flight.arrival.airport\").cast(StringType()).alias(\"arrival_airport\"),\n",
    "    col(\"flight.arrival.timezone\").cast(StringType()).alias(\"arrival_timezone\"),\n",
    "    col(\"flight.arrival.iata\").cast(StringType()).alias(\"arrival_iata\"),\n",
    "    col(\"flight.arrival.icao\").cast(StringType()).alias(\"arrival_icao\"),\n",
    "    col(\"flight.arrival.terminal\").cast(StringType()).alias(\"arrival_terminal\"),\n",
    "    col(\"flight.arrival.gate\").cast(StringType()).alias(\"arrival_gate\"),\n",
    "    col(\"flight.arrival.baggage\").cast(StringType()).alias(\"arrival_baggage\"),\n",
    "    col(\"flight.arrival.delay\").cast(IntegerType()).alias(\"arrival_delay\"),\n",
    "    col(\"flight.arrival.scheduled\").cast(StringType()).alias(\"arrival_scheduled\"),\n",
    "    col(\"flight.arrival.estimated\").cast(StringType()).alias(\"arrival_estimated\"),\n",
    "    col(\"flight.arrival.actual\").cast(StringType()).alias(\"arrival_actual\"),\n",
    "    col(\"flight.arrival.estimated_runway\").cast(StringType()).alias(\"arrival_estimated_runway\"),\n",
    "    col(\"flight.arrival.actual_runway\").cast(StringType()).alias(\"arrival_actual_runway\"),\n",
    "    \n",
    "    # Airline fields\n",
    "    col(\"flight.airline.name\").cast(StringType()).alias(\"airline_name\"),\n",
    "    col(\"flight.airline.iata\").cast(StringType()).alias(\"airline_iata\"),\n",
    "    col(\"flight.airline.icao\").cast(StringType()).alias(\"airline_icao\"),\n",
    "    \n",
    "    # Flight fields\n",
    "    col(\"flight.flight.number\").cast(IntegerType()).alias(\"flight_number\"),\n",
    "    col(\"flight.flight.iata\").cast(StringType()).alias(\"flight_iata\"),\n",
    "    col(\"flight.flight.icao\").cast(StringType()).alias(\"flight_icao\"),\n",
    "    col(\"flight.flight.codeshared\").cast(StringType()).alias(\"flight_codeshared\"),\n",
    "    \n",
    "    # Aircraft fields\n",
    "    col(\"flight.aircraft.registration\").cast(StringType()).alias(\"aircraft_registration\"),\n",
    "    col(\"flight.aircraft.iata\").cast(StringType()).alias(\"aircraft_iata\"),\n",
    "    col(\"flight.aircraft.icao\").cast(StringType()).alias(\"aircraft_icao\"),\n",
    "    col(\"flight.aircraft.icao24\").cast(StringType()).alias(\"aircraft_icao24\"),\n",
    "    \n",
    "    # Live fields\n",
    "    col(\"flight.live.updated\").cast(TimestampType()).alias(\"live_updated\"),\n",
    "    col(\"flight.live.latitude\").cast(DoubleType()).alias(\"live_latitude\"),\n",
    "    col(\"flight.live.longitude\").cast(DoubleType()).alias(\"live_longitude\"),\n",
    "    col(\"flight.live.altitude\").cast(DoubleType()).alias(\"live_altitude\"),\n",
    "    col(\"flight.live.direction\").cast(DoubleType()).alias(\"live_direction\"),\n",
    "    col(\"flight.live.speed_horizontal\").cast(DoubleType()).alias(\"live_speed_horizontal\"),\n",
    "    col(\"flight.live.speed_vertical\").cast(DoubleType()).alias(\"live_speed_vertical\"),\n",
    "    col(\"flight.live.is_ground\").cast(BooleanType()).alias(\"live_is_ground\")\n",
    ")"
   ]
  },
  {
   "cell_type": "markdown",
   "metadata": {
    "application/vnd.databricks.v1+cell": {
     "cellMetadata": {},
     "inputWidgets": {},
     "nuid": "56e847ce-d2c7-446b-bc03-e44c5910fab0",
     "showTitle": false,
     "tableResultSettingsMap": {},
     "title": ""
    }
   },
   "source": [
    "#### Step 3: Handle null values and standardize formats\n",
    "##### Replace empty strings with corresponding appropriate values and get rid of the records with a null primary key \n"
   ]
  },
  {
   "cell_type": "code",
   "execution_count": 0,
   "metadata": {
    "application/vnd.databricks.v1+cell": {
     "cellMetadata": {
      "byteLimit": 2048000,
      "rowLimit": 10000
     },
     "inputWidgets": {},
     "nuid": "5a456f33-d5db-4db9-bcc1-e56db96f4156",
     "showTitle": false,
     "tableResultSettingsMap": {},
     "title": ""
    }
   },
   "outputs": [],
   "source": [
    "flights_data_df_enforced.createOrReplaceTempView(\"silver_flights\")"
   ]
  },
  {
   "cell_type": "code",
   "execution_count": 0,
   "metadata": {
    "application/vnd.databricks.v1+cell": {
     "cellMetadata": {
      "byteLimit": 2048000,
      "rowLimit": 10000
     },
     "inputWidgets": {},
     "nuid": "23c2f2cb-2c42-48ae-a8f2-fb20fe177179",
     "showTitle": false,
     "tableResultSettingsMap": {},
     "title": ""
    }
   },
   "outputs": [],
   "source": [
    "silver_flights_df = spark.sql(\"\"\"\n",
    "    SELECT\n",
    "        COALESCE(flight_date, 'N/A') AS flight_date,\n",
    "        CASE\n",
    "            WHEN arrival_actual IS NOT NULL THEN 'landed'\n",
    "            ELSE COALESCE(flight_status, 'unknown') \n",
    "        END AS flight_status,\n",
    "        \n",
    "        -- Departure fields\n",
    "        COALESCE(departure_airport, 'Unknown') AS departure_airport,\n",
    "        COALESCE(departure_timezone, 'Unknown') AS departure_timezone,\n",
    "        COALESCE(departure_iata, 'N/A') AS departure_iata,\n",
    "        COALESCE(departure_icao, 'N/A') AS departure_icao,\n",
    "        COALESCE(departure_terminal, 'N/A') AS departure_terminal,\n",
    "        COALESCE(departure_gate, 'N/A') AS departure_gate,\n",
    "        COALESCE(departure_delay, 0) AS departure_delay,\n",
    "        COALESCE(departure_scheduled, 'N/A') AS departure_scheduled,\n",
    "        COALESCE(departure_estimated, 'N/A') AS departure_estimated,\n",
    "        COALESCE(departure_actual, 'N/A') AS departure_actual,\n",
    "        COALESCE(departure_estimated_runway, 'N/A') AS departure_estimated_runway,\n",
    "        COALESCE(departure_actual_runway, 'N/A') AS departure_actual_runway,\n",
    "        \n",
    "        -- Arrival fields\n",
    "        COALESCE(arrival_airport, 'Unknown') AS arrival_airport,\n",
    "        COALESCE(arrival_timezone, 'Unknown') AS arrival_timezone,\n",
    "        COALESCE(arrival_iata, 'N/A') AS arrival_iata,\n",
    "        COALESCE(arrival_icao, 'N/A') AS arrival_icao, --pk\n",
    "        COALESCE(arrival_terminal, 'N/A') AS arrival_terminal,\n",
    "        COALESCE(arrival_gate, 'N/A') AS arrival_gate,\n",
    "        COALESCE(arrival_baggage, 'N/A') AS arrival_baggage,\n",
    "        COALESCE(arrival_delay, 0) AS arrival_delay,\n",
    "        COALESCE(arrival_scheduled, 'N/A') AS arrival_scheduled,\n",
    "        COALESCE(arrival_estimated, 'N/A') AS arrival_estimated,\n",
    "        COALESCE(arrival_actual, 'N/A') AS arrival_actual,\n",
    "        COALESCE(arrival_estimated_runway, 'N/A') AS arrival_estimated_runway,\n",
    "        COALESCE(arrival_actual_runway, 'N/A') AS arrival_actual_runway,\n",
    "        \n",
    "        -- Airline fields\n",
    "        COALESCE(airline_name, 'Unknown') AS airline_name,\n",
    "        COALESCE(airline_iata, 'N/A') AS airline_iata,\n",
    "        COALESCE(airline_icao, 'N/A') AS airline_icao,\n",
    "        \n",
    "        -- Flight fields\n",
    "        COALESCE(flight_number, 0) AS flight_number,\n",
    "        COALESCE(flight_iata, 'N/A') AS flight_iata,\n",
    "        COALESCE(flight_icao, 'N/A') AS flight_icao,\n",
    "        COALESCE(flight_codeshared, 'N/A') AS flight_codeshared,\n",
    "        \n",
    "        -- Aircraft fields\n",
    "        COALESCE(aircraft_registration, 'N/A') AS aircraft_registration,\n",
    "        COALESCE(aircraft_iata, 'N/A') AS aircraft_iata, --pk\n",
    "        COALESCE(aircraft_icao, 'N/A') AS aircraft_icao,\n",
    "        COALESCE(aircraft_icao24, 'N/A') AS aircraft_icao24,\n",
    "        \n",
    "        -- Live fields\n",
    "        COALESCE(live_updated, 'N/A') AS live_updated,\n",
    "        COALESCE(live_latitude, 0.0) AS live_latitude,\n",
    "        COALESCE(live_longitude, 0.0) AS live_longitude,\n",
    "        COALESCE(live_altitude, 0.0) AS live_altitude,\n",
    "        COALESCE(live_direction, 0.0) AS live_direction,\n",
    "        COALESCE(live_speed_horizontal, 0.0) AS live_speed_horizontal,\n",
    "        COALESCE(live_speed_vertical, 0.0) AS live_speed_vertical,\n",
    "        COALESCE(live_is_ground, false) AS live_is_ground\n",
    "        \n",
    "    FROM \n",
    "        silver_flights\n",
    "    WHERE \n",
    "        flight_number IS NOT NULL AND NOT (flight_icao IS NULL AND flight_iata IS NULL)\n",
    "\"\"\")"
   ]
  },
  {
   "cell_type": "markdown",
   "metadata": {
    "application/vnd.databricks.v1+cell": {
     "cellMetadata": {},
     "inputWidgets": {},
     "nuid": "0a97190a-9294-4dd3-aab7-c308a5c041c0",
     "showTitle": false,
     "tableResultSettingsMap": {},
     "title": ""
    }
   },
   "source": [
    "#### Step 4: Deduplication (if needed)\n",
    "##### Drop duplicates based on unique identifiers"
   ]
  },
  {
   "cell_type": "code",
   "execution_count": 0,
   "metadata": {
    "application/vnd.databricks.v1+cell": {
     "cellMetadata": {},
     "inputWidgets": {},
     "nuid": "63f8bda0-deed-46ae-83c8-682e9b63db13",
     "showTitle": false,
     "tableResultSettingsMap": {},
     "title": ""
    }
   },
   "outputs": [],
   "source": [
    "# print(silver_countries_df.count())\n",
    "silver_flights_df = silver_flights_df.dropDuplicates([\"flight_number\", \"flight_iata\", \"flight_icao\", \"flight_status\"])\n",
    "# print(silver_countries_df.count())\n"
   ]
  },
  {
   "cell_type": "markdown",
   "metadata": {
    "application/vnd.databricks.v1+cell": {
     "cellMetadata": {},
     "inputWidgets": {},
     "nuid": "af6e2606-12ab-4d15-b5da-75d5dc964928",
     "showTitle": false,
     "tableResultSettingsMap": {},
     "title": ""
    }
   },
   "source": [
    "#### Step4: Write into Silver layer as parquet"
   ]
  },
  {
   "cell_type": "code",
   "execution_count": 0,
   "metadata": {
    "application/vnd.databricks.v1+cell": {
     "cellMetadata": {
      "byteLimit": 2048000,
      "rowLimit": 10000
     },
     "inputWidgets": {},
     "nuid": "70155229-36f8-4941-bb01-93b75e23eaf5",
     "showTitle": false,
     "tableResultSettingsMap": {},
     "title": ""
    }
   },
   "outputs": [],
   "source": [
    "silver_flights_df.coalesce(1).write.format(\"delta\").option(\"mergeSchema\", \"true\").mode(\"overwrite\").save(f\"{output_base_path}/flights/\")\n"
   ]
  },
  {
   "cell_type": "code",
   "execution_count": 0,
   "metadata": {
    "application/vnd.databricks.v1+cell": {
     "cellMetadata": {},
     "inputWidgets": {},
     "nuid": "a78b1e9c-1cc6-4541-9826-d467b5277ac3",
     "showTitle": false,
     "tableResultSettingsMap": {},
     "title": ""
    }
   },
   "outputs": [],
   "source": []
  }
 ],
 "metadata": {
  "application/vnd.databricks.v1+notebook": {
   "computePreferences": null,
   "dashboards": [],
   "environmentMetadata": null,
   "inputWidgetPreferences": null,
   "language": "python",
   "notebookMetadata": {
    "pythonIndentUnit": 4
   },
   "notebookName": "BronzeToSilver_FactTable",
   "widgets": {}
  },
  "kernelspec": {
   "display_name": "Python 3 (ipykernel)",
   "language": "python",
   "name": "python3"
  },
  "language_info": {
   "name": "python"
  }
 },
 "nbformat": 4,
 "nbformat_minor": 0
}
