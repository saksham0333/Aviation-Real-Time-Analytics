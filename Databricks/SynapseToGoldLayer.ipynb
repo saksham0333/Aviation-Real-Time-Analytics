{
 "cells": [
  {
   "cell_type": "code",
   "execution_count": 0,
   "metadata": {
    "application/vnd.databricks.v1+cell": {
     "cellMetadata": {
      "byteLimit": 2048000,
      "rowLimit": 10000
     },
     "inputWidgets": {},
     "nuid": "23a9c9ca-4358-4685-bf7f-ac0a262f31c4",
     "showTitle": false,
     "tableResultSettingsMap": {},
     "title": ""
    }
   },
   "outputs": [],
   "source": [
    "from pyspark.sql import SparkSession\n",
    "\n",
    "spark = SparkSession.builder \\\n",
    "    .appName(\"SynapseToGoldLayer\") \\\n",
    "    .config(\"spark.jars.packages\", \"com.microsoft.azure:synapse-spark-connector:2.1.0\") \\\n",
    "    .getOrCreate()\n",
    "    \n",
    "spark.conf.set(f\"fs.azure.account.key.{account_name}.dfs.core.windows.net\", account_key)"
   ]
  },
  {
   "cell_type": "code",
   "execution_count": 0,
   "metadata": {
    "application/vnd.databricks.v1+cell": {
     "cellMetadata": {
      "byteLimit": 2048000,
      "rowLimit": 10000
     },
     "inputWidgets": {},
     "nuid": "bd83db18-cab7-4337-b7d4-f60bc6d44d79",
     "showTitle": false,
     "tableResultSettingsMap": {},
     "title": ""
    }
   },
   "outputs": [],
   "source": [
    "synapse_server= \"aviation-synapse-ws-ondemand.sql.azuresynapse.net\"\n",
    "synapse_database= \"Aviation\"\n",
    "synapse_username= \"adminuser\"\n",
    "synapse_password= \"SecureP@ssword123\"\n",
    "\n",
    "output_base_path = \"abfss://gold@aviationdatalake.dfs.core.windows.net/\""
   ]
  },
  {
   "cell_type": "code",
   "execution_count": 0,
   "metadata": {
    "application/vnd.databricks.v1+cell": {
     "cellMetadata": {
      "byteLimit": 2048000,
      "rowLimit": 10000
     },
     "inputWidgets": {},
     "nuid": "533fb034-6613-4f3e-b01e-1f4b6c62d89c",
     "showTitle": false,
     "tableResultSettingsMap": {},
     "title": ""
    }
   },
   "outputs": [],
   "source": [
    "def dump_to_gold(view, output_path):\n",
    "    synapse_options = {\n",
    "        \"url\": f\"jdbc:sqlserver://{synapse_server}:1433;database={synapse_database}\",\n",
    "        \"dbtable\": f\"{view}\",  # Replace with your view name\n",
    "        \"user\": f\"{synapse_username}\",\n",
    "        \"password\": f\"{synapse_password}\",\n",
    "        \"driver\": \"com.microsoft.sqlserver.jdbc.SQLServerDriver\"\n",
    "    }\n",
    "\n",
    "    df = spark.read.format(\"jdbc\").options(**synapse_options).load()\n",
    "\n",
    "    df.write.format(\"delta\").option(\"mergeSchema\", \"true\").mode(\"append\").save(f\"{output_path}\")\n",
    "\n",
    "    print(\"Data successfully written to Gold layer.\")\n"
   ]
  },
  {
   "cell_type": "code",
   "execution_count": 0,
   "metadata": {
    "application/vnd.databricks.v1+cell": {
     "cellMetadata": {
      "byteLimit": 2048000,
      "rowLimit": 10000
     },
     "inputWidgets": {},
     "nuid": "4d28faaf-89ef-4209-908e-a9e6fb064dd6",
     "showTitle": false,
     "tableResultSettingsMap": {},
     "title": ""
    }
   },
   "outputs": [
    {
     "name": "stdout",
     "output_type": "stream",
     "text": [
      "Data successfully written to Gold layer.\n",
      "Data successfully written to Gold layer.\n",
      "Data successfully written to Gold layer.\n",
      "Data successfully written to Gold layer.\n",
      "Data successfully written to Gold layer.\n",
      "Data successfully written to Gold layer.\n"
     ]
    }
   ],
   "source": [
    "#cities\n",
    "dump_to_gold(\n",
    "    view = \"gold.dim_cities\",\n",
    "    output_path = f\"{output_base_path}/dim_cities/\"\n",
    ")\n",
    "#countries\n",
    "dump_to_gold(\n",
    "    view = \"gold.dim_countries\",\n",
    "    output_path = f\"{output_base_path}/dim_countries/\"\n",
    ")\n",
    "#airplanes\n",
    "dump_to_gold(\n",
    "    view = \"gold.dim_airplanes\",\n",
    "    output_path = f\"{output_base_path}/dim_airplanes/\"\n",
    ")\n",
    "#airlines\n",
    "dump_to_gold(\n",
    "    view = \"gold.dim_airlines\",\n",
    "    output_path = f\"{output_base_path}/dim_airlines/\"\n",
    ")\n",
    "#airports\n",
    "dump_to_gold(\n",
    "    view = \"gold.dim_airports\",\n",
    "    output_path = f\"{output_base_path}/dim_airports/\" \n",
    ")\n",
    "#flights\n",
    "dump_to_gold(\n",
    "    view = \"gold.fact_flights\",\n",
    "    output_path = f\"{output_base_path}/fact_flights/\" \n",
    ")"
   ]
  },
  {
   "cell_type": "code",
   "execution_count": 0,
   "metadata": {
    "application/vnd.databricks.v1+cell": {
     "cellMetadata": {},
     "inputWidgets": {},
     "nuid": "cb604109-6a28-4b1b-aafe-71e846847b2c",
     "showTitle": false,
     "tableResultSettingsMap": {},
     "title": ""
    }
   },
   "outputs": [],
   "source": []
  }
 ],
 "metadata": {
  "application/vnd.databricks.v1+notebook": {
   "computePreferences": null,
   "dashboards": [],
   "environmentMetadata": {
    "base_environment": "",
    "environment_version": "2"
   },
   "inputWidgetPreferences": null,
   "language": "python",
   "notebookMetadata": {
    "pythonIndentUnit": 4
   },
   "notebookName": "SynapseToGoldLayer",
   "widgets": {}
  },
  "language_info": {
   "name": "python"
  }
 },
 "nbformat": 4,
 "nbformat_minor": 0
}
