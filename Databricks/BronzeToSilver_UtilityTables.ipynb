{
 "cells": [
  {
   "cell_type": "code",
   "execution_count": 0,
   "metadata": {
    "application/vnd.databricks.v1+cell": {
     "cellMetadata": {
      "byteLimit": 2048000,
      "rowLimit": 10000
     },
     "inputWidgets": {},
     "nuid": "473f531d-3449-47a9-bc52-e89bc8999b31",
     "showTitle": false,
     "tableResultSettingsMap": {},
     "title": ""
    }
   },
   "outputs": [],
   "source": [
    "from pyspark.sql import SparkSession\n",
    "from pyspark.sql.functions import col, explode, to_timestamp, lit, from_json\n",
    "from pyspark.sql.types import StructType, StructField, StringType, DoubleType, IntegerType, DecimalType\n",
    "\n",
    "spark = SparkSession.builder.appName(\"BronzeToSilver_UtilityTables\").getOrCreate()\n",
    "spark.conf.set(f\"fs.azure.account.key.{account_name}.dfs.core.windows.net\", account_key)"
   ]
  },
  {
   "cell_type": "code",
   "execution_count": 0,
   "metadata": {
    "application/vnd.databricks.v1+cell": {
     "cellMetadata": {
      "byteLimit": 2048000,
      "rowLimit": 10000
     },
     "inputWidgets": {},
     "nuid": "68bea9b1-0c9e-479a-9e39-52933c9f2d35",
     "showTitle": false,
     "tableResultSettingsMap": {},
     "title": ""
    }
   },
   "outputs": [
    {
     "data": {
      "text/plain": [
       "'3.5.0'"
      ]
     },
     "execution_count": 4,
     "metadata": {},
     "output_type": "execute_result"
    }
   ],
   "source": [
    "spark.version"
   ]
  },
  {
   "cell_type": "code",
   "execution_count": 0,
   "metadata": {
    "application/vnd.databricks.v1+cell": {
     "cellMetadata": {
      "byteLimit": 2048000,
      "rowLimit": 10000
     },
     "inputWidgets": {},
     "nuid": "ecd4cc96-b8a3-4ed0-b848-da418a9b4110",
     "showTitle": false,
     "tableResultSettingsMap": {},
     "title": ""
    }
   },
   "outputs": [],
   "source": [
    "# Define base paths\n",
    "input_base_path = f\"abfss://bronze@{account_name}.dfs.core.windows.net\"\n",
    "output_base_path = f\"abfss://silver@{account_name}.dfs.core.windows.net\""
   ]
  },
  {
   "cell_type": "code",
   "execution_count": 0,
   "metadata": {
    "application/vnd.databricks.v1+cell": {
     "cellMetadata": {
      "byteLimit": 2048000,
      "rowLimit": 10000
     },
     "inputWidgets": {},
     "nuid": "4240cef9-b942-4887-a105-73da18482c11",
     "showTitle": false,
     "tableResultSettingsMap": {},
     "title": ""
    }
   },
   "outputs": [],
   "source": [
    "from datetime import datetime\n",
    "\n",
    "today = datetime.today()\n",
    "year = today.strftime('%Y')\n",
    "month = today.strftime('%m')\n",
    "day = today.strftime('%d')"
   ]
  },
  {
   "cell_type": "markdown",
   "metadata": {
    "application/vnd.databricks.v1+cell": {
     "cellMetadata": {},
     "inputWidgets": {},
     "nuid": "97b2615b-31e4-402c-a7be-f0c9191f0c26",
     "showTitle": false,
     "tableResultSettingsMap": {},
     "title": ""
    }
   },
   "source": [
    "# 1. Cities table"
   ]
  },
  {
   "cell_type": "code",
   "execution_count": 0,
   "metadata": {
    "application/vnd.databricks.v1+cell": {
     "cellMetadata": {
      "byteLimit": 2048000,
      "rowLimit": 10000
     },
     "inputWidgets": {},
     "nuid": "e4dee8b5-9ec1-4816-a19e-4f7ca32db4a1",
     "showTitle": false,
     "tableResultSettingsMap": {},
     "title": ""
    }
   },
   "outputs": [],
   "source": [
    "bronze_cities_df = spark.read.json(f\"{input_base_path}/cities/*.json\")"
   ]
  },
  {
   "cell_type": "markdown",
   "metadata": {
    "application/vnd.databricks.v1+cell": {
     "cellMetadata": {},
     "inputWidgets": {},
     "nuid": "5c247d93-7b20-4f88-8602-afe4899ee0c0",
     "showTitle": false,
     "tableResultSettingsMap": {},
     "title": ""
    }
   },
   "source": [
    "#### Step 1: Explode JSON fields to flatten nested structures\n",
    "##### Extract the \"data\" array from the JSON"
   ]
  },
  {
   "cell_type": "code",
   "execution_count": 0,
   "metadata": {
    "application/vnd.databricks.v1+cell": {
     "cellMetadata": {
      "byteLimit": 2048000,
      "rowLimit": 10000
     },
     "inputWidgets": {},
     "nuid": "6c6b6175-c960-4a9e-9bdd-c2cd2f87e467",
     "showTitle": false,
     "tableResultSettingsMap": {},
     "title": ""
    }
   },
   "outputs": [],
   "source": [
    "cities_data_df = bronze_cities_df.select(explode(col(\"data\")).alias(\"city\"))"
   ]
  },
  {
   "cell_type": "markdown",
   "metadata": {
    "application/vnd.databricks.v1+cell": {
     "cellMetadata": {},
     "inputWidgets": {},
     "nuid": "5a20cc3a-10ba-4cca-9fa7-38ca4c3a67b4",
     "showTitle": false,
     "tableResultSettingsMap": {},
     "title": ""
    }
   },
   "source": [
    "#### Step 2: Schema enforcement"
   ]
  },
  {
   "cell_type": "markdown",
   "metadata": {
    "application/vnd.databricks.v1+cell": {
     "cellMetadata": {},
     "inputWidgets": {},
     "nuid": "4e7ce24a-dc4c-417d-b39d-9cb349d3e882",
     "showTitle": false,
     "tableResultSettingsMap": {},
     "title": ""
    }
   },
   "source": [
    "##### Select relevant fields and apply the schema "
   ]
  },
  {
   "cell_type": "code",
   "execution_count": 0,
   "metadata": {
    "application/vnd.databricks.v1+cell": {
     "cellMetadata": {
      "byteLimit": 2048000,
      "rowLimit": 10000
     },
     "inputWidgets": {},
     "nuid": "ea212aa0-def6-487c-be11-6676f1e84a79",
     "showTitle": false,
     "tableResultSettingsMap": {},
     "title": ""
    }
   },
   "outputs": [],
   "source": [
    "cities_data_df_enforced = cities_data_df.select(\n",
    "    col(\"city.city_name\").cast(StringType()).alias(\"city_name\"),\n",
    "    col(\"city.iata_code\").cast(StringType()).alias(\"iata_code\"),\n",
    "    col(\"city.country_iso2\").cast(StringType()).alias(\"country_iso2\"),\n",
    "    col(\"city.latitude\").cast(DoubleType()).alias(\"latitude\"),\n",
    "    col(\"city.longitude\").cast(DoubleType()).alias(\"longitude\"),\n",
    "    col(\"city.timezone\").cast(StringType()).alias(\"timezone\"),\n",
    "    col(\"city.gmt\").cast(DecimalType(4,2)).alias(\"gmt\"),\n",
    "    col(\"city.geoname_id\").cast(IntegerType()).alias(\"geoname_id\")\n",
    ")"
   ]
  },
  {
   "cell_type": "markdown",
   "metadata": {
    "application/vnd.databricks.v1+cell": {
     "cellMetadata": {},
     "inputWidgets": {},
     "nuid": "f69649a3-312f-4d5a-b001-ee994e48dbee",
     "showTitle": false,
     "tableResultSettingsMap": {},
     "title": ""
    }
   },
   "source": [
    "#### Step 3: Handle null values and standardize formats\n",
    "##### Replace empty strings with corresponding appropriate values and get rid of the records with a null primary key \n"
   ]
  },
  {
   "cell_type": "code",
   "execution_count": 0,
   "metadata": {
    "application/vnd.databricks.v1+cell": {
     "cellMetadata": {
      "byteLimit": 2048000,
      "rowLimit": 10000
     },
     "inputWidgets": {},
     "nuid": "ea2e2c85-0888-4ca8-acab-fabf395afe52",
     "showTitle": false,
     "tableResultSettingsMap": {},
     "title": ""
    }
   },
   "outputs": [],
   "source": [
    "cities_data_df_enforced.createOrReplaceTempView(\"silver_cities\")"
   ]
  },
  {
   "cell_type": "code",
   "execution_count": 0,
   "metadata": {
    "application/vnd.databricks.v1+cell": {
     "cellMetadata": {
      "byteLimit": 2048000,
      "rowLimit": 10000
     },
     "inputWidgets": {},
     "nuid": "eb86871e-6545-4b85-94e0-8fe296c72b93",
     "showTitle": false,
     "tableResultSettingsMap": {},
     "title": ""
    }
   },
   "outputs": [],
   "source": [
    "\n",
    "silver_cities_df = spark.sql(\"\"\"\n",
    "    SELECT\n",
    "        COALESCE(city_name, 'Unkown') AS city_name,\n",
    "        COALESCE(iata_code, 'N/A') AS iata_code,\n",
    "        COALESCE(country_iso2, 'N/A') AS country_iso2,\n",
    "        COALESCE(latitude, 0.0) AS latitude,\n",
    "        COALESCE(longitude, 0.0) AS longitude,\n",
    "        COALESCE(timezone, 'Unkown') AS timezone,\n",
    "        COALESCE(gmt, 'N/A') AS gmt,\n",
    "        COALESCE(geoname_id, 0) AS geoname_id\n",
    "    FROM silver_cities\n",
    "    WHERE city_name IS NOT NULL\n",
    "\"\"\")"
   ]
  },
  {
   "cell_type": "markdown",
   "metadata": {
    "application/vnd.databricks.v1+cell": {
     "cellMetadata": {},
     "inputWidgets": {},
     "nuid": "fc99aba6-90c8-4727-813f-3678acd89b95",
     "showTitle": false,
     "tableResultSettingsMap": {},
     "title": ""
    }
   },
   "source": [
    "#### Step 4: Deduplication (if needed)\n",
    "##### Drop duplicates based on unique identifiers"
   ]
  },
  {
   "cell_type": "code",
   "execution_count": 0,
   "metadata": {
    "application/vnd.databricks.v1+cell": {
     "cellMetadata": {
      "byteLimit": 2048000,
      "rowLimit": 10000
     },
     "inputWidgets": {},
     "nuid": "5956905a-a78a-43b1-bd4d-ee20cdc4f148",
     "showTitle": false,
     "tableResultSettingsMap": {},
     "title": ""
    }
   },
   "outputs": [
    {
     "name": "stdout",
     "output_type": "stream",
     "text": [
      "9282\n",
      "9282\n"
     ]
    }
   ],
   "source": [
    "# print(silver_cities_df.count())\n",
    "silver_cities_df = silver_cities_df.dropDuplicates([\"city_name\", \"iata_code\"])\n",
    "# print(silver_cities_df.count())\n"
   ]
  },
  {
   "cell_type": "markdown",
   "metadata": {
    "application/vnd.databricks.v1+cell": {
     "cellMetadata": {},
     "inputWidgets": {},
     "nuid": "1841a354-a341-4f1a-b9c6-869062d817a6",
     "showTitle": false,
     "tableResultSettingsMap": {},
     "title": ""
    }
   },
   "source": [
    "#### Step5: Write into Silver layer as delta"
   ]
  },
  {
   "cell_type": "code",
   "execution_count": 0,
   "metadata": {
    "application/vnd.databricks.v1+cell": {
     "cellMetadata": {
      "byteLimit": 2048000,
      "rowLimit": 10000
     },
     "inputWidgets": {},
     "nuid": "7af6a52f-55ce-4e3d-b0cd-703d9ca24c28",
     "showTitle": false,
     "tableResultSettingsMap": {},
     "title": ""
    }
   },
   "outputs": [],
   "source": [
    "silver_cities_df.coalesce(1).write.format(\"delta\").option(\"mergeSchema\", \"true\").mode(\"overwrite\").save(f\"{output_base_path}/cities/\")\n"
   ]
  },
  {
   "cell_type": "markdown",
   "metadata": {
    "application/vnd.databricks.v1+cell": {
     "cellMetadata": {},
     "inputWidgets": {},
     "nuid": "7f86dc20-6471-4006-9ed1-8341ccb99270",
     "showTitle": false,
     "tableResultSettingsMap": {},
     "title": ""
    }
   },
   "source": [
    "# 2. Countries Table"
   ]
  },
  {
   "cell_type": "code",
   "execution_count": 0,
   "metadata": {
    "application/vnd.databricks.v1+cell": {
     "cellMetadata": {
      "byteLimit": 2048000,
      "rowLimit": 10000
     },
     "inputWidgets": {},
     "nuid": "fdc8c838-ae18-4181-88c6-03d348620bc0",
     "showTitle": false,
     "tableResultSettingsMap": {},
     "title": ""
    }
   },
   "outputs": [],
   "source": [
    "bronze_countries_df = spark.read.json(f\"{input_base_path}/countries/*.json\")"
   ]
  },
  {
   "cell_type": "markdown",
   "metadata": {
    "application/vnd.databricks.v1+cell": {
     "cellMetadata": {},
     "inputWidgets": {},
     "nuid": "a5263d3b-6972-4511-8ee5-7d7fcc10ec70",
     "showTitle": false,
     "tableResultSettingsMap": {},
     "title": ""
    }
   },
   "source": [
    "#### Step 1: Explode JSON fields to flatten nested structures\n",
    "##### Extract the \"data\" array from the JSON"
   ]
  },
  {
   "cell_type": "code",
   "execution_count": 0,
   "metadata": {
    "application/vnd.databricks.v1+cell": {
     "cellMetadata": {
      "byteLimit": 2048000,
      "rowLimit": 10000
     },
     "inputWidgets": {},
     "nuid": "1faa3017-b026-4809-b615-2dc6f5a07192",
     "showTitle": false,
     "tableResultSettingsMap": {},
     "title": ""
    }
   },
   "outputs": [],
   "source": [
    "countries_data_df = bronze_countries_df.select(explode(col(\"data\")).alias(\"country\"))"
   ]
  },
  {
   "cell_type": "markdown",
   "metadata": {
    "application/vnd.databricks.v1+cell": {
     "cellMetadata": {},
     "inputWidgets": {},
     "nuid": "ff20dc6d-ea03-414b-bacc-c99dbd78ca34",
     "showTitle": false,
     "tableResultSettingsMap": {},
     "title": ""
    }
   },
   "source": [
    "#### Step 2: Schema enforcement"
   ]
  },
  {
   "cell_type": "markdown",
   "metadata": {
    "application/vnd.databricks.v1+cell": {
     "cellMetadata": {},
     "inputWidgets": {},
     "nuid": "34f088f4-8b7d-44cc-92cb-ab67895c2009",
     "showTitle": false,
     "tableResultSettingsMap": {},
     "title": ""
    }
   },
   "source": [
    "##### select relevant fields and apply the schema \n"
   ]
  },
  {
   "cell_type": "code",
   "execution_count": 0,
   "metadata": {
    "application/vnd.databricks.v1+cell": {
     "cellMetadata": {
      "byteLimit": 2048000,
      "rowLimit": 10000
     },
     "inputWidgets": {},
     "nuid": "17e59c57-a53f-40f9-b8da-7d05bac47de4",
     "showTitle": false,
     "tableResultSettingsMap": {},
     "title": ""
    }
   },
   "outputs": [],
   "source": [
    "countries_data_df_enforced = countries_data_df.select(\n",
    "    col(\"country.country_name\").cast(StringType()).alias(\"country_name\"),\n",
    "    col(\"country.country_iso2\").cast(StringType()).alias(\"country_iso2\"),\n",
    "    col(\"country.country_iso3\").cast(StringType()).alias(\"country_iso3\"),\n",
    "    col(\"country.country_iso_numeric\").cast(IntegerType()).alias(\"country_iso_numeric\"),\n",
    "    col(\"country.population\").cast(IntegerType()).alias(\"population\"),\n",
    "    col(\"country.capital\").cast(StringType()).alias(\"capital\"),\n",
    "    col(\"country.continent\").cast(StringType()).alias(\"continent\"),\n",
    "    col(\"country.currency_name\").cast(StringType()).alias(\"currency_name\"),\n",
    "    col(\"country.currency_code\").cast(StringType()).alias(\"currency_code\"),\n",
    "    col(\"country.fips_code\").cast(StringType()).alias(\"fips_code\"),\n",
    "    col(\"country.phone_prefix\").cast(StringType()).alias(\"phone_prefix\")\n",
    ")"
   ]
  },
  {
   "cell_type": "markdown",
   "metadata": {
    "application/vnd.databricks.v1+cell": {
     "cellMetadata": {},
     "inputWidgets": {},
     "nuid": "3e667676-56bd-4dff-a70d-7ad92c69904f",
     "showTitle": false,
     "tableResultSettingsMap": {},
     "title": ""
    }
   },
   "source": [
    "#### Step 3: Handle null values and standardize formats\n",
    "##### Replace empty strings with corresponding appropriate values and get rid of the records with a null primary key \n"
   ]
  },
  {
   "cell_type": "code",
   "execution_count": 0,
   "metadata": {
    "application/vnd.databricks.v1+cell": {
     "cellMetadata": {
      "byteLimit": 2048000,
      "rowLimit": 10000
     },
     "inputWidgets": {},
     "nuid": "026dff61-72c2-465f-89cb-e564c0af974f",
     "showTitle": false,
     "tableResultSettingsMap": {},
     "title": ""
    }
   },
   "outputs": [],
   "source": [
    "countries_data_df_enforced.createOrReplaceTempView(\"silver_countries\")"
   ]
  },
  {
   "cell_type": "code",
   "execution_count": 0,
   "metadata": {
    "application/vnd.databricks.v1+cell": {
     "cellMetadata": {
      "byteLimit": 2048000,
      "rowLimit": 10000
     },
     "inputWidgets": {},
     "nuid": "809ace47-5981-4ec8-808a-c85901b86726",
     "showTitle": false,
     "tableResultSettingsMap": {},
     "title": ""
    }
   },
   "outputs": [],
   "source": [
    "silver_countries_df = spark.sql(\"\"\"\n",
    "    SELECT\n",
    "        COALESCE(country_name, 'Unknown') AS country_name,\n",
    "        COALESCE(country_iso2, 'N/A') AS country_iso2,\n",
    "        COALESCE(country_iso3, 'N/A') AS country_iso3,\n",
    "        COALESCE(country_iso_numeric, 0) AS country_iso_numeric,\n",
    "        COALESCE(population, 0) AS population,\n",
    "        COALESCE(capital, 'Unknown') AS capital,\n",
    "        COALESCE(continent, 'Unknown') AS continent,\n",
    "        COALESCE(currency_name, 'Unknown') AS currency_name,\n",
    "        COALESCE(currency_code, 'N/A') AS currency_code,\n",
    "        COALESCE(fips_code, 'N/A') AS fips_code,\n",
    "        COALESCE(phone_prefix, 'N/A') AS phone_prefix\n",
    "    FROM silver_countries\n",
    "    WHERE country_name IS NOT NULL\n",
    "\"\"\")"
   ]
  },
  {
   "cell_type": "code",
   "execution_count": 0,
   "metadata": {
    "application/vnd.databricks.v1+cell": {
     "cellMetadata": {
      "byteLimit": 2048000,
      "rowLimit": 10000
     },
     "inputWidgets": {},
     "nuid": "291584bc-4104-4ec8-a2f6-7326d855dd19",
     "showTitle": false,
     "tableResultSettingsMap": {},
     "title": ""
    }
   },
   "outputs": [
    {
     "data": {
      "text/plain": [
       "StructType([StructField('country_name', StringType(), False), StructField('country_iso2', StringType(), False), StructField('country_iso3', StringType(), False), StructField('country_iso_numeric', IntegerType(), False), StructField('population', IntegerType(), False), StructField('capital', StringType(), False), StructField('continent', StringType(), False), StructField('currency_name', StringType(), False), StructField('currency_code', StringType(), False), StructField('fips_code', StringType(), False), StructField('phone_prefix', StringType(), False)])"
      ]
     },
     "execution_count": 52,
     "metadata": {},
     "output_type": "execute_result"
    }
   ],
   "source": [
    "silver_countries_df.schema"
   ]
  },
  {
   "cell_type": "markdown",
   "metadata": {
    "application/vnd.databricks.v1+cell": {
     "cellMetadata": {},
     "inputWidgets": {},
     "nuid": "65913500-2e63-4531-b375-1981cc71532d",
     "showTitle": false,
     "tableResultSettingsMap": {},
     "title": ""
    }
   },
   "source": [
    "#### Step 4: Deduplication (if needed)\n",
    "##### Drop duplicates based on unique identifiers"
   ]
  },
  {
   "cell_type": "code",
   "execution_count": 0,
   "metadata": {
    "application/vnd.databricks.v1+cell": {
     "cellMetadata": {
      "byteLimit": 2048000,
      "rowLimit": 10000
     },
     "inputWidgets": {},
     "nuid": "094ef129-f05c-4864-9a1c-91cb9cd43ff2",
     "showTitle": false,
     "tableResultSettingsMap": {},
     "title": ""
    }
   },
   "outputs": [],
   "source": [
    "# print(silver_countries_df.count())\n",
    "silver_countries_df = silver_countries_df.dropDuplicates([\"country_name\"])\n",
    "# print(silver_countries_df.count())\n"
   ]
  },
  {
   "cell_type": "markdown",
   "metadata": {
    "application/vnd.databricks.v1+cell": {
     "cellMetadata": {},
     "inputWidgets": {},
     "nuid": "000f715e-0c3e-4641-ba2c-af428de44595",
     "showTitle": false,
     "tableResultSettingsMap": {},
     "title": ""
    }
   },
   "source": [
    "#### Step5: Write into Silver layer as delta"
   ]
  },
  {
   "cell_type": "code",
   "execution_count": 0,
   "metadata": {
    "application/vnd.databricks.v1+cell": {
     "cellMetadata": {
      "byteLimit": 2048000,
      "rowLimit": 10000
     },
     "inputWidgets": {},
     "nuid": "570a109b-49e1-4b71-bb0b-18e46261451d",
     "showTitle": false,
     "tableResultSettingsMap": {},
     "title": ""
    }
   },
   "outputs": [],
   "source": [
    "silver_countries_df.coalesce(1).write.format(\"delta\").option(\"mergeSchema\", \"true\").mode(\"overwrite\").save(f\"{output_base_path}/countries/\")\n"
   ]
  },
  {
   "cell_type": "markdown",
   "metadata": {
    "application/vnd.databricks.v1+cell": {
     "cellMetadata": {},
     "inputWidgets": {},
     "nuid": "12e791ee-8db3-4062-8653-daa5db1543b5",
     "showTitle": false,
     "tableResultSettingsMap": {},
     "title": ""
    }
   },
   "source": [
    "# 3. Airplanes Table:\n"
   ]
  },
  {
   "cell_type": "code",
   "execution_count": 0,
   "metadata": {
    "application/vnd.databricks.v1+cell": {
     "cellMetadata": {
      "byteLimit": 2048000,
      "rowLimit": 10000
     },
     "inputWidgets": {},
     "nuid": "2a4a41ae-6cdb-4781-96ec-cdd6f2e1874c",
     "showTitle": false,
     "tableResultSettingsMap": {},
     "title": ""
    }
   },
   "outputs": [],
   "source": [
    "bronze_airplanes_df  = spark.read.json(f\"{input_base_path}/airplanes/*.json\")"
   ]
  },
  {
   "cell_type": "markdown",
   "metadata": {
    "application/vnd.databricks.v1+cell": {
     "cellMetadata": {},
     "inputWidgets": {},
     "nuid": "e56fa12c-0374-4dfe-b4d5-ac6f6b478dae",
     "showTitle": false,
     "tableResultSettingsMap": {},
     "title": ""
    }
   },
   "source": [
    "#### Step 1: Explode JSON fields to flatten nested structures\n",
    "##### Extract the \"data\" array from the JSON"
   ]
  },
  {
   "cell_type": "code",
   "execution_count": 0,
   "metadata": {
    "application/vnd.databricks.v1+cell": {
     "cellMetadata": {
      "byteLimit": 2048000,
      "rowLimit": 10000
     },
     "inputWidgets": {},
     "nuid": "972333cf-8e98-43a6-adf2-4cf1356373aa",
     "showTitle": false,
     "tableResultSettingsMap": {},
     "title": ""
    }
   },
   "outputs": [],
   "source": [
    "airplanes_data_df = bronze_airplanes_df.select(explode(col(\"data\")).alias(\"airplane\"))\n"
   ]
  },
  {
   "cell_type": "markdown",
   "metadata": {
    "application/vnd.databricks.v1+cell": {
     "cellMetadata": {},
     "inputWidgets": {},
     "nuid": "d75645d8-11ff-4c1a-b3f5-c50532349a95",
     "showTitle": false,
     "tableResultSettingsMap": {},
     "title": ""
    }
   },
   "source": [
    "#### Step 2: Schema enforcement"
   ]
  },
  {
   "cell_type": "markdown",
   "metadata": {
    "application/vnd.databricks.v1+cell": {
     "cellMetadata": {},
     "inputWidgets": {},
     "nuid": "730ab6fd-1732-49dd-b26f-39bce6590218",
     "showTitle": false,
     "tableResultSettingsMap": {},
     "title": ""
    }
   },
   "source": [
    "##### select relevant fields and apply the schema \n"
   ]
  },
  {
   "cell_type": "code",
   "execution_count": 0,
   "metadata": {
    "application/vnd.databricks.v1+cell": {
     "cellMetadata": {
      "byteLimit": 2048000,
      "rowLimit": 10000
     },
     "inputWidgets": {},
     "nuid": "ed6cd615-21bd-4a64-b745-3feea9455365",
     "showTitle": false,
     "tableResultSettingsMap": {},
     "title": ""
    }
   },
   "outputs": [],
   "source": [
    "airplanes_data_df_enforced = airplanes_data_df.select(\n",
    "    col(\"airplane.registration_number\").cast(StringType()).alias(\"registration_number\"),\n",
    "    col(\"airplane.production_line\").cast(StringType()).alias(\"production_line\"),\n",
    "    col(\"airplane.iata_type\").cast(StringType()).alias(\"iata_type\"),\n",
    "    col(\"airplane.model_name\").cast(StringType()).alias(\"model_name\"),\n",
    "    col(\"airplane.model_code\").cast(StringType()).alias(\"model_code\"),\n",
    "    col(\"airplane.icao_code_hex\").cast(StringType()).alias(\"icao_code_hex\"),\n",
    "    col(\"airplane.iata_code_short\").cast(StringType()).alias(\"iata_code_short\"),\n",
    "    col(\"airplane.construction_number\").cast(StringType()).alias(\"construction_number\"),\n",
    "    col(\"airplane.test_registration_number\").cast(StringType()).alias(\"test_registration_number\"),\n",
    "    col(\"airplane.rollout_date\").cast(StringType()).alias(\"rollout_date\"),\n",
    "    col(\"airplane.first_flight_date\").cast(StringType()).alias(\"first_flight_date\"),\n",
    "    col(\"airplane.delivery_date\").cast(StringType()).alias(\"delivery_date\"),\n",
    "    col(\"airplane.registration_date\").cast(StringType()).alias(\"registration_date\"),\n",
    "    col(\"airplane.line_number\").cast(StringType()).alias(\"line_number\"),\n",
    "    col(\"airplane.plane_series\").cast(StringType()).alias(\"plane_series\"),\n",
    "    col(\"airplane.airline_iata_code\").cast(StringType()).alias(\"airline_iata_code\"),\n",
    "    col(\"airplane.airline_icao_code\").cast(StringType()).alias(\"airline_icao_code\"),\n",
    "    col(\"airplane.plane_owner\").cast(StringType()).alias(\"plane_owner\"),\n",
    "    col(\"airplane.engines_count\").cast(IntegerType()).alias(\"engines_count\"),\n",
    "    col(\"airplane.engines_type\").cast(StringType()).alias(\"engines_type\"),\n",
    "    col(\"airplane.plane_age\").cast(IntegerType()).alias(\"plane_age\"),\n",
    "    col(\"airplane.plane_status\").cast(StringType()).alias(\"plane_status\"),\n",
    "    col(\"airplane.plane_class\").cast(StringType()).alias(\"plane_class\")\n",
    ")"
   ]
  },
  {
   "cell_type": "markdown",
   "metadata": {
    "application/vnd.databricks.v1+cell": {
     "cellMetadata": {},
     "inputWidgets": {},
     "nuid": "2c900b7b-709f-4bb8-96fe-ec4ddc062a88",
     "showTitle": false,
     "tableResultSettingsMap": {},
     "title": ""
    }
   },
   "source": [
    "#### Step 3: Handle null values and standardize formats\n",
    "##### Replace empty strings with corresponding appropriate values and get rid of the records with a null primary key \n"
   ]
  },
  {
   "cell_type": "code",
   "execution_count": 0,
   "metadata": {
    "application/vnd.databricks.v1+cell": {
     "cellMetadata": {
      "byteLimit": 2048000,
      "rowLimit": 10000
     },
     "inputWidgets": {},
     "nuid": "42659589-d36d-4efe-8da2-39eea41369ef",
     "showTitle": false,
     "tableResultSettingsMap": {},
     "title": ""
    }
   },
   "outputs": [],
   "source": [
    "airplanes_data_df_enforced.createOrReplaceTempView(\"silver_airplanes\")\n"
   ]
  },
  {
   "cell_type": "code",
   "execution_count": 0,
   "metadata": {
    "application/vnd.databricks.v1+cell": {
     "cellMetadata": {
      "byteLimit": 2048000,
      "rowLimit": 10000
     },
     "inputWidgets": {},
     "nuid": "2ec11e6b-c416-4ea4-8f5f-f86db35c18ab",
     "showTitle": false,
     "tableResultSettingsMap": {},
     "title": ""
    }
   },
   "outputs": [],
   "source": [
    "silver_airplanes_df = spark.sql(\"\"\"\n",
    "    SELECT\n",
    "        COALESCE(registration_number, 'N/A') AS registration_number,\n",
    "        COALESCE(production_line, 'Unknown') AS production_line,\n",
    "        COALESCE(iata_type, 'Unknown') AS iata_type,\n",
    "        COALESCE(model_name, 'Unknown') AS model_name,\n",
    "        COALESCE(model_code, 'Unknown') AS model_code,\n",
    "        COALESCE(icao_code_hex, 'N/A') AS icao_code_hex,\n",
    "        COALESCE(iata_code_short, 'N/A') AS iata_code_short,\n",
    "        COALESCE(construction_number, 'N/A') AS construction_number,\n",
    "        COALESCE(test_registration_number, 'N/A') AS test_registration_number,\n",
    "        COALESCE(rollout_date, 'N/A') AS rollout_date,\n",
    "        COALESCE(first_flight_date, 'N/A') AS first_flight_date,\n",
    "        COALESCE(delivery_date, 'N/A') AS delivery_date,\n",
    "        COALESCE(registration_date, 'N/A') AS registration_date,\n",
    "        COALESCE(line_number, 'N/A') AS line_number,\n",
    "        COALESCE(plane_series, 'N/A') AS plane_series,\n",
    "        COALESCE(airline_iata_code, 'N/A') AS airline_iata_code,\n",
    "        COALESCE(airline_icao_code, 'N/A') AS airline_icao_code,\n",
    "        COALESCE(plane_owner, 'Unknown') AS plane_owner,\n",
    "        COALESCE(engines_count, 0) AS engines_count,\n",
    "        COALESCE(engines_type, 'Unknown') AS engines_type,\n",
    "        COALESCE(plane_age, 0) AS plane_age,\n",
    "        COALESCE(plane_status, 'Unknown') AS plane_status,\n",
    "        COALESCE(plane_class, 'Unknown') AS plane_class\n",
    "    FROM silver_airplanes\n",
    "    WHERE registration_number IS NOT NULL\n",
    "\"\"\")"
   ]
  },
  {
   "cell_type": "code",
   "execution_count": 0,
   "metadata": {
    "application/vnd.databricks.v1+cell": {
     "cellMetadata": {
      "byteLimit": 2048000,
      "rowLimit": 10000
     },
     "inputWidgets": {},
     "nuid": "68eb6b46-7760-4bb5-b035-4686d2a29774",
     "showTitle": false,
     "tableResultSettingsMap": {},
     "title": ""
    }
   },
   "outputs": [
    {
     "data": {
      "text/plain": [
       "StructType([StructField('registration_number', StringType(), False), StructField('production_line', StringType(), False), StructField('iata_type', StringType(), False), StructField('model_name', StringType(), False), StructField('model_code', StringType(), False), StructField('icao_code_hex', StringType(), False), StructField('iata_code_short', StringType(), False), StructField('construction_number', StringType(), False), StructField('test_registration_number', StringType(), False), StructField('rollout_date', StringType(), False), StructField('first_flight_date', StringType(), False), StructField('delivery_date', StringType(), False), StructField('registration_date', StringType(), False), StructField('line_number', StringType(), False), StructField('plane_series', StringType(), False), StructField('airline_iata_code', StringType(), False), StructField('airline_icao_code', StringType(), False), StructField('plane_owner', StringType(), False), StructField('engines_count', IntegerType(), False), StructField('engines_type', StringType(), False), StructField('plane_age', IntegerType(), False), StructField('plane_status', StringType(), False), StructField('plane_class', StringType(), False)])"
      ]
     },
     "execution_count": 82,
     "metadata": {},
     "output_type": "execute_result"
    }
   ],
   "source": [
    "silver_airplanes_df.schema"
   ]
  },
  {
   "cell_type": "markdown",
   "metadata": {
    "application/vnd.databricks.v1+cell": {
     "cellMetadata": {},
     "inputWidgets": {},
     "nuid": "ab9d28f0-4bf3-44ef-a7d1-bf8e22d2c585",
     "showTitle": false,
     "tableResultSettingsMap": {},
     "title": ""
    }
   },
   "source": [
    "#### Step 4: Deduplication (if needed)\n",
    "##### Drop duplicates based on unique identifiers"
   ]
  },
  {
   "cell_type": "code",
   "execution_count": 0,
   "metadata": {
    "application/vnd.databricks.v1+cell": {
     "cellMetadata": {
      "byteLimit": 2048000,
      "rowLimit": 10000
     },
     "inputWidgets": {},
     "nuid": "fd150396-0dd1-4d73-96b7-daa4151d4ae3",
     "showTitle": false,
     "tableResultSettingsMap": {},
     "title": ""
    }
   },
   "outputs": [
    {
     "name": "stdout",
     "output_type": "stream",
     "text": [
      "20995\n",
      "120\n"
     ]
    }
   ],
   "source": [
    "# print(silver_airplanes_df.count())\n",
    "silver_airplanes_df = silver_airplanes_df.dropDuplicates([\"registration_number\", \"iata_type\"])\n",
    "# print(silver_airplanes_df.count())\n"
   ]
  },
  {
   "cell_type": "markdown",
   "metadata": {
    "application/vnd.databricks.v1+cell": {
     "cellMetadata": {},
     "inputWidgets": {},
     "nuid": "412c0a51-e7d7-4d92-af37-3da21a99c1cb",
     "showTitle": false,
     "tableResultSettingsMap": {},
     "title": ""
    }
   },
   "source": [
    "#### Step5: Write into Silver layer as delta"
   ]
  },
  {
   "cell_type": "code",
   "execution_count": 0,
   "metadata": {
    "application/vnd.databricks.v1+cell": {
     "cellMetadata": {
      "byteLimit": 2048000,
      "rowLimit": 10000
     },
     "inputWidgets": {},
     "nuid": "7ef98a41-eb2d-4d66-8126-7eb7c2009d36",
     "showTitle": false,
     "tableResultSettingsMap": {},
     "title": ""
    }
   },
   "outputs": [],
   "source": [
    "silver_airplanes_df.coalesce(1).write.format(\"delta\").option(\"mergeSchema\", \"true\").mode(\"overwrite\").save(f\"{output_base_path}/airplanes/\")\n"
   ]
  },
  {
   "cell_type": "markdown",
   "metadata": {
    "application/vnd.databricks.v1+cell": {
     "cellMetadata": {},
     "inputWidgets": {},
     "nuid": "9eca886c-b80e-4c8a-9313-e7f1552b37f1",
     "showTitle": false,
     "tableResultSettingsMap": {},
     "title": ""
    }
   },
   "source": [
    "# 4. Airports Table"
   ]
  },
  {
   "cell_type": "code",
   "execution_count": 0,
   "metadata": {
    "application/vnd.databricks.v1+cell": {
     "cellMetadata": {
      "byteLimit": 2048000,
      "rowLimit": 10000
     },
     "inputWidgets": {},
     "nuid": "1686a0be-909f-4d07-8293-e97d5512620f",
     "showTitle": false,
     "tableResultSettingsMap": {},
     "title": ""
    }
   },
   "outputs": [],
   "source": [
    "bronze_airports_df  = spark.read.json(f\"{input_base_path}/airports/*.json\")"
   ]
  },
  {
   "cell_type": "markdown",
   "metadata": {
    "application/vnd.databricks.v1+cell": {
     "cellMetadata": {},
     "inputWidgets": {},
     "nuid": "9d969acf-30e2-4607-8a10-3fffc7a8d620",
     "showTitle": false,
     "tableResultSettingsMap": {},
     "title": ""
    }
   },
   "source": [
    "#### Step 1: Explode JSON fields to flatten nested structures\n",
    "##### Extract the \"data\" array from the JSON"
   ]
  },
  {
   "cell_type": "code",
   "execution_count": 0,
   "metadata": {
    "application/vnd.databricks.v1+cell": {
     "cellMetadata": {
      "byteLimit": 2048000,
      "rowLimit": 10000
     },
     "inputWidgets": {},
     "nuid": "8b74caad-b810-49b5-bdc2-3729e141f7c5",
     "showTitle": false,
     "tableResultSettingsMap": {},
     "title": ""
    }
   },
   "outputs": [],
   "source": [
    "airports_data_df = bronze_airports_df.select(explode(col(\"data\")).alias(\"airport\"))\n"
   ]
  },
  {
   "cell_type": "markdown",
   "metadata": {
    "application/vnd.databricks.v1+cell": {
     "cellMetadata": {},
     "inputWidgets": {},
     "nuid": "335f2b41-6e61-4411-aa3d-9a163d2ad7be",
     "showTitle": false,
     "tableResultSettingsMap": {},
     "title": ""
    }
   },
   "source": [
    "#### Step 2: Schema enforcement"
   ]
  },
  {
   "cell_type": "markdown",
   "metadata": {
    "application/vnd.databricks.v1+cell": {
     "cellMetadata": {},
     "inputWidgets": {},
     "nuid": "c5af0ab1-aa2c-405a-a4d0-995c6000468a",
     "showTitle": false,
     "tableResultSettingsMap": {},
     "title": ""
    }
   },
   "source": [
    "##### select relevant fields and apply the schema \n"
   ]
  },
  {
   "cell_type": "code",
   "execution_count": 0,
   "metadata": {
    "application/vnd.databricks.v1+cell": {
     "cellMetadata": {
      "byteLimit": 2048000,
      "rowLimit": 10000
     },
     "inputWidgets": {},
     "nuid": "19026ec6-3857-47ed-b78f-8da453c77d77",
     "showTitle": false,
     "tableResultSettingsMap": {},
     "title": ""
    }
   },
   "outputs": [],
   "source": [
    "airports_data_df_enforced = airports_data_df.select(\n",
    "    col(\"airport.airport_name\").cast(StringType()).alias(\"airport_name\"),\n",
    "    col(\"airport.iata_code\").cast(StringType()).alias(\"iata_code\"),\n",
    "    col(\"airport.icao_code\").cast(StringType()).alias(\"icao_code\"),\n",
    "    col(\"airport.latitude\").cast(DoubleType()).alias(\"latitude\"),\n",
    "    col(\"airport.longitude\").cast(DoubleType()).alias(\"longitude\"),\n",
    "    col(\"airport.geoname_id\").cast(IntegerType()).alias(\"geoname_id\"),\n",
    "    col(\"airport.timezone\").cast(StringType()).alias(\"timezone\"),\n",
    "    col(\"airport.gmt\").cast(StringType()).alias(\"gmt\"),\n",
    "    col(\"airport.phone_number\").cast(StringType()).alias(\"phone_number\"),\n",
    "    col(\"airport.country_name\").cast(StringType()).alias(\"country_name\"),\n",
    "    col(\"airport.country_iso2\").cast(StringType()).alias(\"country_iso2\"),\n",
    "    col(\"airport.city_iata_code\").cast(StringType()).alias(\"city_iata_code\")\n",
    ")\n"
   ]
  },
  {
   "cell_type": "markdown",
   "metadata": {
    "application/vnd.databricks.v1+cell": {
     "cellMetadata": {},
     "inputWidgets": {},
     "nuid": "6272767d-2a8b-4700-b469-840c27328ea7",
     "showTitle": false,
     "tableResultSettingsMap": {},
     "title": ""
    }
   },
   "source": [
    "#### Step 3: Handle null values and standardize formats\n",
    "##### Replace empty strings with corresponding appropriate values and get rid of the records with a null primary key \n"
   ]
  },
  {
   "cell_type": "code",
   "execution_count": 0,
   "metadata": {
    "application/vnd.databricks.v1+cell": {
     "cellMetadata": {
      "byteLimit": 2048000,
      "rowLimit": 10000
     },
     "inputWidgets": {},
     "nuid": "d90aeabe-b83f-4f84-8835-9948e70ed9ec",
     "showTitle": false,
     "tableResultSettingsMap": {},
     "title": ""
    }
   },
   "outputs": [],
   "source": [
    "airports_data_df_enforced.createOrReplaceTempView(\"silver_airports\")\n"
   ]
  },
  {
   "cell_type": "code",
   "execution_count": 0,
   "metadata": {
    "application/vnd.databricks.v1+cell": {
     "cellMetadata": {
      "byteLimit": 2048000,
      "rowLimit": 10000
     },
     "inputWidgets": {},
     "nuid": "7a3e6020-91d9-4508-9a52-c9d0869a484c",
     "showTitle": false,
     "tableResultSettingsMap": {},
     "title": ""
    }
   },
   "outputs": [
    {
     "name": "stdout",
     "output_type": "stream",
     "text": [
      "+------------+---------+---------+--------+---------+----------+--------+---+------------+------------+------------+--------------+\n",
      "|airport_name|iata_code|icao_code|latitude|longitude|geoname_id|timezone|gmt|phone_number|country_name|country_iso2|city_iata_code|\n",
      "+------------+---------+---------+--------+---------+----------+--------+---+------------+------------+------------+--------------+\n",
      "+------------+---------+---------+--------+---------+----------+--------+---+------------+------------+------------+--------------+\n",
      "\n"
     ]
    }
   ],
   "source": [
    "silver_airports_df = spark.sql(\"\"\"\n",
    "    SELECT\n",
    "        COALESCE(airport_name, 'Unknown') AS airport_name,\n",
    "        COALESCE(iata_code, 'N/A') AS iata_code, --pk\n",
    "        COALESCE(icao_code, 'N/A') AS icao_code,\n",
    "        COALESCE(latitude, 0.0) AS latitude,\n",
    "        COALESCE(longitude, 0.0) AS longitude,\n",
    "        COALESCE(geoname_id, 0) AS geoname_id,\n",
    "        COALESCE(timezone, 'Unknown') AS timezone,\n",
    "        COALESCE(gmt, 'N/A') AS gmt,\n",
    "        COALESCE(phone_number, 'N/A') AS phone_number,\n",
    "        COALESCE(country_name, 'Unknown') AS country_name,\n",
    "        COALESCE(country_iso2, 'N/A') AS country_iso2,\n",
    "        COALESCE(city_iata_code, 'N/A') AS city_iata_code\n",
    "    FROM silver_airports\n",
    "    WHERE icao_code IS NULL\n",
    "    -- and iata_code= \"TAG\"\n",
    "\"\"\")"
   ]
  },
  {
   "cell_type": "markdown",
   "metadata": {
    "application/vnd.databricks.v1+cell": {
     "cellMetadata": {},
     "inputWidgets": {},
     "nuid": "2e864027-b7c0-46b9-8f86-cb8b6750aaf6",
     "showTitle": false,
     "tableResultSettingsMap": {},
     "title": ""
    }
   },
   "source": [
    "#### Step 4: Deduplication (if needed)\n",
    "##### Drop duplicates based on unique identifiers"
   ]
  },
  {
   "cell_type": "code",
   "execution_count": 0,
   "metadata": {
    "application/vnd.databricks.v1+cell": {
     "cellMetadata": {
      "byteLimit": 2048000,
      "rowLimit": 10000
     },
     "inputWidgets": {},
     "nuid": "9d4e03e9-0b89-4aac-bea7-7fd30424b23d",
     "showTitle": false,
     "tableResultSettingsMap": {},
     "title": ""
    }
   },
   "outputs": [
    {
     "name": "stdout",
     "output_type": "stream",
     "text": [
      "7010\n",
      "6710\n"
     ]
    }
   ],
   "source": [
    "# print(silver_airports_df.count())\n",
    "silver_airports_df = silver_airports_df.dropDuplicates([\"iata_code\"])\n",
    "# print(silver_airports_df.count())\n"
   ]
  },
  {
   "cell_type": "markdown",
   "metadata": {
    "application/vnd.databricks.v1+cell": {
     "cellMetadata": {},
     "inputWidgets": {},
     "nuid": "e3792d50-0bf4-462f-97e8-5296d1fd37d0",
     "showTitle": false,
     "tableResultSettingsMap": {},
     "title": ""
    }
   },
   "source": [
    "#### Step5: Write into Silver layer as delta"
   ]
  },
  {
   "cell_type": "code",
   "execution_count": 0,
   "metadata": {
    "application/vnd.databricks.v1+cell": {
     "cellMetadata": {
      "byteLimit": 2048000,
      "rowLimit": 10000
     },
     "inputWidgets": {},
     "nuid": "f7ca34aa-0904-459a-88b0-0a1a03161ff2",
     "showTitle": false,
     "tableResultSettingsMap": {},
     "title": ""
    }
   },
   "outputs": [],
   "source": [
    "silver_airports_df.coalesce(1).write.format(\"delta\").option(\"mergeSchema\", \"true\").mode(\"overwrite\").save(f\"{output_base_path}/airports/\")\n"
   ]
  },
  {
   "cell_type": "markdown",
   "metadata": {
    "application/vnd.databricks.v1+cell": {
     "cellMetadata": {},
     "inputWidgets": {},
     "nuid": "b2df2811-ddc0-4037-9540-345b517bee3a",
     "showTitle": false,
     "tableResultSettingsMap": {},
     "title": ""
    }
   },
   "source": [
    "# 5. Airlines Table"
   ]
  },
  {
   "cell_type": "code",
   "execution_count": 0,
   "metadata": {
    "application/vnd.databricks.v1+cell": {
     "cellMetadata": {
      "byteLimit": 2048000,
      "rowLimit": 10000
     },
     "inputWidgets": {},
     "nuid": "6751a7fb-295f-4202-a0a1-c57ef45d33bc",
     "showTitle": false,
     "tableResultSettingsMap": {},
     "title": ""
    }
   },
   "outputs": [],
   "source": [
    "bronze_airlines_df  = spark.read.json(f\"{input_base_path}/airlines/*.json\")"
   ]
  },
  {
   "cell_type": "markdown",
   "metadata": {
    "application/vnd.databricks.v1+cell": {
     "cellMetadata": {},
     "inputWidgets": {},
     "nuid": "161bc47f-f88d-4a07-b64d-c9798a4b6a05",
     "showTitle": false,
     "tableResultSettingsMap": {},
     "title": ""
    }
   },
   "source": [
    "#### Step 1: Explode JSON fields to flatten nested structures\n",
    "##### Extract the \"data\" array from the JSON"
   ]
  },
  {
   "cell_type": "code",
   "execution_count": 0,
   "metadata": {
    "application/vnd.databricks.v1+cell": {
     "cellMetadata": {
      "byteLimit": 2048000,
      "rowLimit": 10000
     },
     "inputWidgets": {},
     "nuid": "1316fb68-ebd5-4d75-adea-423ab854be72",
     "showTitle": false,
     "tableResultSettingsMap": {},
     "title": ""
    }
   },
   "outputs": [],
   "source": [
    "airlines_data_df = bronze_airlines_df.select(explode(col(\"data\")).alias(\"airline\"))\n"
   ]
  },
  {
   "cell_type": "markdown",
   "metadata": {
    "application/vnd.databricks.v1+cell": {
     "cellMetadata": {},
     "inputWidgets": {},
     "nuid": "142bfec4-e679-40de-bb4f-6e62a629c3b2",
     "showTitle": false,
     "tableResultSettingsMap": {},
     "title": ""
    }
   },
   "source": [
    "#### Step 2: Schema enforcement"
   ]
  },
  {
   "cell_type": "markdown",
   "metadata": {
    "application/vnd.databricks.v1+cell": {
     "cellMetadata": {},
     "inputWidgets": {},
     "nuid": "5a6d85be-438f-440c-a1e2-5ff9fc2bb303",
     "showTitle": false,
     "tableResultSettingsMap": {},
     "title": ""
    }
   },
   "source": [
    "##### select relevant fields and apply the schema \n"
   ]
  },
  {
   "cell_type": "code",
   "execution_count": 0,
   "metadata": {
    "application/vnd.databricks.v1+cell": {
     "cellMetadata": {
      "byteLimit": 2048000,
      "rowLimit": 10000
     },
     "inputWidgets": {},
     "nuid": "b6c0c8b9-7ff3-4409-8107-77a369295bf7",
     "showTitle": false,
     "tableResultSettingsMap": {},
     "title": ""
    }
   },
   "outputs": [],
   "source": [
    "airlines_data_df_enforced = airlines_data_df.select(\n",
    "    col(\"airline.airline_name\").cast(StringType()).alias(\"airline_name\"),\n",
    "    col(\"airline.iata_code\").cast(StringType()).alias(\"iata_code\"),\n",
    "    col(\"airline.iata_prefix_accounting\").cast(StringType()).alias(\"iata_prefix_accounting\"),\n",
    "    col(\"airline.icao_code\").cast(StringType()).alias(\"icao_code\"),\n",
    "    col(\"airline.callsign\").cast(StringType()).alias(\"callsign\"),\n",
    "    col(\"airline.type\").cast(StringType()).alias(\"type\"),\n",
    "    col(\"airline.status\").cast(StringType()).alias(\"status\"),\n",
    "    col(\"airline.fleet_size\").cast(IntegerType()).alias(\"fleet_size\"),\n",
    "    col(\"airline.fleet_average_age\").cast(DoubleType()).alias(\"fleet_average_age\"),\n",
    "    col(\"airline.date_founded\").cast(IntegerType()).alias(\"date_founded\"),\n",
    "    col(\"airline.hub_code\").cast(StringType()).alias(\"hub_code\"),\n",
    "    col(\"airline.country_name\").cast(StringType()).alias(\"country_name\"),\n",
    "    col(\"airline.country_iso2\").cast(StringType()).alias(\"country_iso2\")\n",
    ")"
   ]
  },
  {
   "cell_type": "markdown",
   "metadata": {
    "application/vnd.databricks.v1+cell": {
     "cellMetadata": {},
     "inputWidgets": {},
     "nuid": "e4bf316f-91d6-47d1-b5e6-fbde59434f2f",
     "showTitle": false,
     "tableResultSettingsMap": {},
     "title": ""
    }
   },
   "source": [
    "#### Step 3: Handle null values and standardize formats\n",
    "##### Replace empty strings with corresponding appropriate values and get rid of the records with a null primary key \n"
   ]
  },
  {
   "cell_type": "code",
   "execution_count": 0,
   "metadata": {
    "application/vnd.databricks.v1+cell": {
     "cellMetadata": {
      "byteLimit": 2048000,
      "rowLimit": 10000
     },
     "inputWidgets": {},
     "nuid": "033e7f6b-23bb-490b-8613-1c4cd0864fce",
     "showTitle": false,
     "tableResultSettingsMap": {},
     "title": ""
    }
   },
   "outputs": [],
   "source": [
    "airlines_data_df_enforced.createOrReplaceTempView(\"silver_airlines\")\n"
   ]
  },
  {
   "cell_type": "code",
   "execution_count": 0,
   "metadata": {
    "application/vnd.databricks.v1+cell": {
     "cellMetadata": {
      "byteLimit": 2048000,
      "rowLimit": 10000
     },
     "inputWidgets": {},
     "nuid": "ad6b860b-3f5c-43e2-8d0d-5cee129f1eed",
     "showTitle": false,
     "tableResultSettingsMap": {},
     "title": ""
    }
   },
   "outputs": [],
   "source": [
    "silver_airlines_df = spark.sql(\"\"\"\n",
    "    SELECT\n",
    "        COALESCE(airline_name, 'Unknown') AS airline_name,\n",
    "        COALESCE(icao_code, 'N/A') AS icao_code,\n",
    "        COALESCE(iata_code, 'N/A') AS iata_code, --there are nulls here\n",
    "        COALESCE(iata_prefix_accounting, 'N/A') AS iata_prefix_accounting,\n",
    "        COALESCE(callsign, 'N/A') AS callsign,\n",
    "        COALESCE(type, 'Unknown') AS type,\n",
    "        COALESCE(status, 'Unknown') AS status,\n",
    "        COALESCE(fleet_size, 0) AS fleet_size,\n",
    "        COALESCE(fleet_average_age, 0.0) AS fleet_average_age,\n",
    "        COALESCE(date_founded, 0) AS date_founded,\n",
    "        COALESCE(hub_code, 'N/A') AS hub_code,\n",
    "        COALESCE(country_name, 'Unknown') AS country_name,\n",
    "        COALESCE(country_iso2, 'N/A') AS country_iso2\n",
    "    FROM silver_airlines\n",
    "    WHERE airline_name IS NOT NULL\n",
    "\"\"\")"
   ]
  },
  {
   "cell_type": "markdown",
   "metadata": {
    "application/vnd.databricks.v1+cell": {
     "cellMetadata": {},
     "inputWidgets": {},
     "nuid": "f4ac89da-2ad3-496c-9db0-85a94eb87203",
     "showTitle": false,
     "tableResultSettingsMap": {},
     "title": ""
    }
   },
   "source": [
    "#### Step 4: Deduplication (if needed)\n",
    "##### Drop duplicates based on unique identifiers"
   ]
  },
  {
   "cell_type": "code",
   "execution_count": 0,
   "metadata": {
    "application/vnd.databricks.v1+cell": {
     "cellMetadata": {
      "byteLimit": 2048000,
      "rowLimit": 10000
     },
     "inputWidgets": {},
     "nuid": "b1e2cce0-a5eb-4c06-95a4-45e43e33711f",
     "showTitle": false,
     "tableResultSettingsMap": {},
     "title": ""
    }
   },
   "outputs": [
    {
     "name": "stdout",
     "output_type": "stream",
     "text": [
      "13119\n",
      "13119\n"
     ]
    }
   ],
   "source": [
    "print(silver_airlines_df.count())\n",
    "silver_airlines_df = silver_airlines_df.dropDuplicates([\"airline_name\", \"icao_code\", \"iata_code\", \"country_name\"])\n",
    "print(silver_airlines_df.count())\n"
   ]
  },
  {
   "cell_type": "markdown",
   "metadata": {
    "application/vnd.databricks.v1+cell": {
     "cellMetadata": {},
     "inputWidgets": {},
     "nuid": "cb230c4e-5897-446e-9eea-04f1d9b1c517",
     "showTitle": false,
     "tableResultSettingsMap": {},
     "title": ""
    }
   },
   "source": [
    "#### Step5: Write into Silver layer as delta"
   ]
  },
  {
   "cell_type": "code",
   "execution_count": 0,
   "metadata": {
    "application/vnd.databricks.v1+cell": {
     "cellMetadata": {
      "byteLimit": 2048000,
      "rowLimit": 10000
     },
     "inputWidgets": {},
     "nuid": "6a4488e6-95d7-4f99-be87-d38ff2504262",
     "showTitle": false,
     "tableResultSettingsMap": {},
     "title": ""
    }
   },
   "outputs": [],
   "source": [
    "silver_airlines_df.coalesce(1).write.format(\"delta\").option(\"mergeSchema\", \"true\").mode(\"overwrite\").save(f\"{output_base_path}/airlines/\")\n"
   ]
  },
  {
   "cell_type": "code",
   "execution_count": 0,
   "metadata": {
    "application/vnd.databricks.v1+cell": {
     "cellMetadata": {},
     "inputWidgets": {},
     "nuid": "fa15b48d-1a72-44bf-b19e-517fb9a87c24",
     "showTitle": false,
     "tableResultSettingsMap": {},
     "title": ""
    }
   },
   "outputs": [],
   "source": []
  }
 ],
 "metadata": {
  "application/vnd.databricks.v1+notebook": {
   "computePreferences": null,
   "dashboards": [],
   "environmentMetadata": null,
   "inputWidgetPreferences": null,
   "language": "python",
   "notebookMetadata": {
    "pythonIndentUnit": 4
   },
   "notebookName": "BronzeToSilver_UtilityTables",
   "widgets": {}
  },
  "kernelspec": {
   "display_name": "Python 3 (ipykernel)",
   "language": "python",
   "name": "python3"
  },
  "language_info": {
   "name": "python"
  }
 },
 "nbformat": 4,
 "nbformat_minor": 0
}
